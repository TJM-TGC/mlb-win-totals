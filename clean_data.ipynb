{
 "cells": [
  {
   "cell_type": "code",
   "execution_count": 2,
   "metadata": {},
   "outputs": [],
   "source": [
    "import os\n",
    "import pandas as pd\n",
    "import matplotlib.pyplot as plt\n",
    "import numpy as np\n",
    "from broom import Broom"
   ]
  },
  {
   "cell_type": "code",
   "execution_count": 3,
   "metadata": {},
   "outputs": [
    {
     "output_type": "execute_result",
     "data": {
      "text/plain": [
       "     tm  r_per_g      r  ra_per_g    r.1  year\n",
       "0   ARI     4.28  693.0      3.98  644.0  2018\n",
       "1   ATL     4.69  759.0      4.06  657.0  2018\n",
       "2   BAL     3.84  622.0      5.51  892.0  2018\n",
       "3   BOS     5.41  876.0      3.99  647.0  2018\n",
       "4   CHC     4.67  761.0      3.96  645.0  2018\n",
       "..  ...      ...    ...       ...    ...   ...\n",
       "25  STL     4.14  240.0     27.60  376.0  2020\n",
       "26  TBR     4.82  289.0     28.10  475.0  2020\n",
       "27  TEX     3.73  224.0     28.70  479.0  2020\n",
       "28  TOR     5.03  302.0     29.50  517.0  2020\n",
       "29  WSN     4.88  293.0     30.80  548.0  2020\n",
       "\n",
       "[150 rows x 6 columns]"
      ],
      "text/html": "<div>\n<style scoped>\n    .dataframe tbody tr th:only-of-type {\n        vertical-align: middle;\n    }\n\n    .dataframe tbody tr th {\n        vertical-align: top;\n    }\n\n    .dataframe thead th {\n        text-align: right;\n    }\n</style>\n<table border=\"1\" class=\"dataframe\">\n  <thead>\n    <tr style=\"text-align: right;\">\n      <th></th>\n      <th>tm</th>\n      <th>r_per_g</th>\n      <th>r</th>\n      <th>ra_per_g</th>\n      <th>r.1</th>\n      <th>year</th>\n    </tr>\n  </thead>\n  <tbody>\n    <tr>\n      <th>0</th>\n      <td>ARI</td>\n      <td>4.28</td>\n      <td>693.0</td>\n      <td>3.98</td>\n      <td>644.0</td>\n      <td>2018</td>\n    </tr>\n    <tr>\n      <th>1</th>\n      <td>ATL</td>\n      <td>4.69</td>\n      <td>759.0</td>\n      <td>4.06</td>\n      <td>657.0</td>\n      <td>2018</td>\n    </tr>\n    <tr>\n      <th>2</th>\n      <td>BAL</td>\n      <td>3.84</td>\n      <td>622.0</td>\n      <td>5.51</td>\n      <td>892.0</td>\n      <td>2018</td>\n    </tr>\n    <tr>\n      <th>3</th>\n      <td>BOS</td>\n      <td>5.41</td>\n      <td>876.0</td>\n      <td>3.99</td>\n      <td>647.0</td>\n      <td>2018</td>\n    </tr>\n    <tr>\n      <th>4</th>\n      <td>CHC</td>\n      <td>4.67</td>\n      <td>761.0</td>\n      <td>3.96</td>\n      <td>645.0</td>\n      <td>2018</td>\n    </tr>\n    <tr>\n      <th>...</th>\n      <td>...</td>\n      <td>...</td>\n      <td>...</td>\n      <td>...</td>\n      <td>...</td>\n      <td>...</td>\n    </tr>\n    <tr>\n      <th>25</th>\n      <td>STL</td>\n      <td>4.14</td>\n      <td>240.0</td>\n      <td>27.60</td>\n      <td>376.0</td>\n      <td>2020</td>\n    </tr>\n    <tr>\n      <th>26</th>\n      <td>TBR</td>\n      <td>4.82</td>\n      <td>289.0</td>\n      <td>28.10</td>\n      <td>475.0</td>\n      <td>2020</td>\n    </tr>\n    <tr>\n      <th>27</th>\n      <td>TEX</td>\n      <td>3.73</td>\n      <td>224.0</td>\n      <td>28.70</td>\n      <td>479.0</td>\n      <td>2020</td>\n    </tr>\n    <tr>\n      <th>28</th>\n      <td>TOR</td>\n      <td>5.03</td>\n      <td>302.0</td>\n      <td>29.50</td>\n      <td>517.0</td>\n      <td>2020</td>\n    </tr>\n    <tr>\n      <th>29</th>\n      <td>WSN</td>\n      <td>4.88</td>\n      <td>293.0</td>\n      <td>30.80</td>\n      <td>548.0</td>\n      <td>2020</td>\n    </tr>\n  </tbody>\n</table>\n<p>150 rows × 6 columns</p>\n</div>"
     },
     "metadata": {},
     "execution_count": 3
    }
   ],
   "source": [
    "broom = Broom(csv_directory = 'resources')\n",
    "raw_data = broom.data_all_years()\n",
    "raw_data"
   ]
  },
  {
   "cell_type": "code",
   "execution_count": 4,
   "metadata": {},
   "outputs": [
    {
     "output_type": "stream",
     "name": "stdout",
     "text": [
      "<class 'pandas.core.frame.DataFrame'>\nInt64Index: 150 entries, 0 to 29\nData columns (total 6 columns):\n #   Column    Non-Null Count  Dtype  \n---  ------    --------------  -----  \n 0   tm        150 non-null    object \n 1   r_per_g   150 non-null    float64\n 2   r         150 non-null    float64\n 3   ra_per_g  150 non-null    float64\n 4   r.1       150 non-null    float64\n 5   year      150 non-null    int64  \ndtypes: float64(4), int64(1), object(1)\nmemory usage: 8.2+ KB\n"
     ]
    }
   ],
   "source": [
    "raw_data.info()"
   ]
  },
  {
   "cell_type": "code",
   "execution_count": 6,
   "metadata": {},
   "outputs": [
    {
     "output_type": "execute_result",
     "data": {
      "text/plain": [
       "r     count        mean        std    min     25%    50%     75%    max\n",
       "year                                                                   \n",
       "2016   30.0  724.800000  59.782595  610.0  676.25  723.0  762.00  878.0\n",
       "2017   30.0  752.733333  65.195691  604.0  707.00  746.5  808.75  896.0\n",
       "2018   30.0  721.000000  75.026892  589.0  676.25  718.5  768.50  876.0\n",
       "2019   30.0  782.233333  90.021332  582.0  726.75  769.0  842.50  943.0\n",
       "2020   30.0  278.133333  32.593350  219.0  250.25  274.5  297.75  349.0"
      ],
      "text/html": "<div>\n<style scoped>\n    .dataframe tbody tr th:only-of-type {\n        vertical-align: middle;\n    }\n\n    .dataframe tbody tr th {\n        vertical-align: top;\n    }\n\n    .dataframe thead th {\n        text-align: right;\n    }\n</style>\n<table border=\"1\" class=\"dataframe\">\n  <thead>\n    <tr style=\"text-align: right;\">\n      <th>r</th>\n      <th>count</th>\n      <th>mean</th>\n      <th>std</th>\n      <th>min</th>\n      <th>25%</th>\n      <th>50%</th>\n      <th>75%</th>\n      <th>max</th>\n    </tr>\n    <tr>\n      <th>year</th>\n      <th></th>\n      <th></th>\n      <th></th>\n      <th></th>\n      <th></th>\n      <th></th>\n      <th></th>\n      <th></th>\n    </tr>\n  </thead>\n  <tbody>\n    <tr>\n      <th>2016</th>\n      <td>30.0</td>\n      <td>724.800000</td>\n      <td>59.782595</td>\n      <td>610.0</td>\n      <td>676.25</td>\n      <td>723.0</td>\n      <td>762.00</td>\n      <td>878.0</td>\n    </tr>\n    <tr>\n      <th>2017</th>\n      <td>30.0</td>\n      <td>752.733333</td>\n      <td>65.195691</td>\n      <td>604.0</td>\n      <td>707.00</td>\n      <td>746.5</td>\n      <td>808.75</td>\n      <td>896.0</td>\n    </tr>\n    <tr>\n      <th>2018</th>\n      <td>30.0</td>\n      <td>721.000000</td>\n      <td>75.026892</td>\n      <td>589.0</td>\n      <td>676.25</td>\n      <td>718.5</td>\n      <td>768.50</td>\n      <td>876.0</td>\n    </tr>\n    <tr>\n      <th>2019</th>\n      <td>30.0</td>\n      <td>782.233333</td>\n      <td>90.021332</td>\n      <td>582.0</td>\n      <td>726.75</td>\n      <td>769.0</td>\n      <td>842.50</td>\n      <td>943.0</td>\n    </tr>\n    <tr>\n      <th>2020</th>\n      <td>30.0</td>\n      <td>278.133333</td>\n      <td>32.593350</td>\n      <td>219.0</td>\n      <td>250.25</td>\n      <td>274.5</td>\n      <td>297.75</td>\n      <td>349.0</td>\n    </tr>\n  </tbody>\n</table>\n</div>"
     },
     "metadata": {},
     "execution_count": 6
    }
   ],
   "source": [
    "raw_data.groupby('year').apply(lambda year: year.r.describe())"
   ]
  },
  {
   "cell_type": "code",
   "execution_count": 18,
   "metadata": {},
   "outputs": [
    {
     "output_type": "execute_result",
     "data": {
      "text/plain": [
       "R    count   mean         std    min    25%    50%    75%    max\n",
       "Tm                                                              \n",
       "ARI    5.0  667.8  228.387171  269.0  693.0  752.0  812.0  813.0\n",
       "ATL    5.0  668.6  193.717062  348.0  649.0  732.0  759.0  855.0\n",
       "BAL    5.0  622.4  201.294063  274.0  622.0  729.0  743.0  744.0\n",
       "BOS    5.0  746.4  257.868765  292.0  785.0  876.0  878.0  901.0\n",
       "CHC    5.0  694.0  240.992738  265.0  761.0  808.0  814.0  822.0\n",
       "CHW    5.0  612.4  172.553760  306.0  656.0  686.0  706.0  708.0\n",
       "CIN    5.0  621.8  212.928861  243.0  696.0  701.0  716.0  753.0\n",
       "CLE    5.0  686.0  245.897336  248.0  769.0  777.0  818.0  818.0\n",
       "COL    5.0  711.8  245.435735  275.0  780.0  824.0  835.0  845.0\n",
       "DET    5.0  589.2  202.834169  249.0  582.0  630.0  735.0  750.0\n",
       "HOU    5.0  723.2  260.456714  279.0  724.0  797.0  896.0  920.0\n",
       "KCR    5.0  590.8  193.154601  248.0  638.0  675.0  691.0  702.0\n",
       "LAA    5.0  642.2  196.037496  294.0  710.0  717.0  721.0  769.0\n",
       "LAD    5.0  706.8  208.510671  349.0  725.0  770.0  804.0  886.0\n",
       "MIA    5.0  580.0  191.457567  263.0  589.0  615.0  655.0  778.0\n",
       "MIL    5.0  634.6  219.866550  247.0  671.0  732.0  754.0  769.0\n",
       "MIN    5.0  696.6  253.957280  269.0  722.0  738.0  815.0  939.0\n",
       "NYM    5.0  631.8  199.413390  286.0  671.0  676.0  735.0  791.0\n",
       "NYY    5.0  729.4  250.557977  315.0  680.0  851.0  858.0  943.0\n",
       "OAK    5.0  664.8  230.653853  274.0  653.0  739.0  813.0  845.0\n",
       "PHI    5.0  611.4  180.410088  306.0  610.0  677.0  690.0  774.0\n",
       "PIT    5.0  613.2  223.037441  219.0  668.0  692.0  729.0  758.0\n",
       "SDP    5.0  582.8  148.804234  325.0  604.0  617.0  682.0  686.0\n",
       "SEA    5.0  641.4  219.524031  254.0  677.0  750.0  758.0  768.0\n",
       "SFG    5.0  586.8  166.259436  299.0  603.0  639.0  678.0  715.0\n",
       "STL    5.0  660.6  235.253693  240.0  759.0  761.0  764.0  779.0\n",
       "TBR    5.0  628.0  192.897641  289.0  672.0  694.0  716.0  769.0\n",
       "TEX    5.0  667.0  249.312053  224.0  737.0  765.0  799.0  810.0\n",
       "TOR    5.0  637.8  189.305837  302.0  693.0  709.0  726.0  759.0\n",
       "WSN    5.0  703.8  233.814456  293.0  763.0  771.0  819.0  873.0"
      ],
      "text/html": "<div>\n<style scoped>\n    .dataframe tbody tr th:only-of-type {\n        vertical-align: middle;\n    }\n\n    .dataframe tbody tr th {\n        vertical-align: top;\n    }\n\n    .dataframe thead th {\n        text-align: right;\n    }\n</style>\n<table border=\"1\" class=\"dataframe\">\n  <thead>\n    <tr style=\"text-align: right;\">\n      <th>R</th>\n      <th>count</th>\n      <th>mean</th>\n      <th>std</th>\n      <th>min</th>\n      <th>25%</th>\n      <th>50%</th>\n      <th>75%</th>\n      <th>max</th>\n    </tr>\n    <tr>\n      <th>Tm</th>\n      <th></th>\n      <th></th>\n      <th></th>\n      <th></th>\n      <th></th>\n      <th></th>\n      <th></th>\n      <th></th>\n    </tr>\n  </thead>\n  <tbody>\n    <tr>\n      <th>ARI</th>\n      <td>5.0</td>\n      <td>667.8</td>\n      <td>228.387171</td>\n      <td>269.0</td>\n      <td>693.0</td>\n      <td>752.0</td>\n      <td>812.0</td>\n      <td>813.0</td>\n    </tr>\n    <tr>\n      <th>ATL</th>\n      <td>5.0</td>\n      <td>668.6</td>\n      <td>193.717062</td>\n      <td>348.0</td>\n      <td>649.0</td>\n      <td>732.0</td>\n      <td>759.0</td>\n      <td>855.0</td>\n    </tr>\n    <tr>\n      <th>BAL</th>\n      <td>5.0</td>\n      <td>622.4</td>\n      <td>201.294063</td>\n      <td>274.0</td>\n      <td>622.0</td>\n      <td>729.0</td>\n      <td>743.0</td>\n      <td>744.0</td>\n    </tr>\n    <tr>\n      <th>BOS</th>\n      <td>5.0</td>\n      <td>746.4</td>\n      <td>257.868765</td>\n      <td>292.0</td>\n      <td>785.0</td>\n      <td>876.0</td>\n      <td>878.0</td>\n      <td>901.0</td>\n    </tr>\n    <tr>\n      <th>CHC</th>\n      <td>5.0</td>\n      <td>694.0</td>\n      <td>240.992738</td>\n      <td>265.0</td>\n      <td>761.0</td>\n      <td>808.0</td>\n      <td>814.0</td>\n      <td>822.0</td>\n    </tr>\n    <tr>\n      <th>CHW</th>\n      <td>5.0</td>\n      <td>612.4</td>\n      <td>172.553760</td>\n      <td>306.0</td>\n      <td>656.0</td>\n      <td>686.0</td>\n      <td>706.0</td>\n      <td>708.0</td>\n    </tr>\n    <tr>\n      <th>CIN</th>\n      <td>5.0</td>\n      <td>621.8</td>\n      <td>212.928861</td>\n      <td>243.0</td>\n      <td>696.0</td>\n      <td>701.0</td>\n      <td>716.0</td>\n      <td>753.0</td>\n    </tr>\n    <tr>\n      <th>CLE</th>\n      <td>5.0</td>\n      <td>686.0</td>\n      <td>245.897336</td>\n      <td>248.0</td>\n      <td>769.0</td>\n      <td>777.0</td>\n      <td>818.0</td>\n      <td>818.0</td>\n    </tr>\n    <tr>\n      <th>COL</th>\n      <td>5.0</td>\n      <td>711.8</td>\n      <td>245.435735</td>\n      <td>275.0</td>\n      <td>780.0</td>\n      <td>824.0</td>\n      <td>835.0</td>\n      <td>845.0</td>\n    </tr>\n    <tr>\n      <th>DET</th>\n      <td>5.0</td>\n      <td>589.2</td>\n      <td>202.834169</td>\n      <td>249.0</td>\n      <td>582.0</td>\n      <td>630.0</td>\n      <td>735.0</td>\n      <td>750.0</td>\n    </tr>\n    <tr>\n      <th>HOU</th>\n      <td>5.0</td>\n      <td>723.2</td>\n      <td>260.456714</td>\n      <td>279.0</td>\n      <td>724.0</td>\n      <td>797.0</td>\n      <td>896.0</td>\n      <td>920.0</td>\n    </tr>\n    <tr>\n      <th>KCR</th>\n      <td>5.0</td>\n      <td>590.8</td>\n      <td>193.154601</td>\n      <td>248.0</td>\n      <td>638.0</td>\n      <td>675.0</td>\n      <td>691.0</td>\n      <td>702.0</td>\n    </tr>\n    <tr>\n      <th>LAA</th>\n      <td>5.0</td>\n      <td>642.2</td>\n      <td>196.037496</td>\n      <td>294.0</td>\n      <td>710.0</td>\n      <td>717.0</td>\n      <td>721.0</td>\n      <td>769.0</td>\n    </tr>\n    <tr>\n      <th>LAD</th>\n      <td>5.0</td>\n      <td>706.8</td>\n      <td>208.510671</td>\n      <td>349.0</td>\n      <td>725.0</td>\n      <td>770.0</td>\n      <td>804.0</td>\n      <td>886.0</td>\n    </tr>\n    <tr>\n      <th>MIA</th>\n      <td>5.0</td>\n      <td>580.0</td>\n      <td>191.457567</td>\n      <td>263.0</td>\n      <td>589.0</td>\n      <td>615.0</td>\n      <td>655.0</td>\n      <td>778.0</td>\n    </tr>\n    <tr>\n      <th>MIL</th>\n      <td>5.0</td>\n      <td>634.6</td>\n      <td>219.866550</td>\n      <td>247.0</td>\n      <td>671.0</td>\n      <td>732.0</td>\n      <td>754.0</td>\n      <td>769.0</td>\n    </tr>\n    <tr>\n      <th>MIN</th>\n      <td>5.0</td>\n      <td>696.6</td>\n      <td>253.957280</td>\n      <td>269.0</td>\n      <td>722.0</td>\n      <td>738.0</td>\n      <td>815.0</td>\n      <td>939.0</td>\n    </tr>\n    <tr>\n      <th>NYM</th>\n      <td>5.0</td>\n      <td>631.8</td>\n      <td>199.413390</td>\n      <td>286.0</td>\n      <td>671.0</td>\n      <td>676.0</td>\n      <td>735.0</td>\n      <td>791.0</td>\n    </tr>\n    <tr>\n      <th>NYY</th>\n      <td>5.0</td>\n      <td>729.4</td>\n      <td>250.557977</td>\n      <td>315.0</td>\n      <td>680.0</td>\n      <td>851.0</td>\n      <td>858.0</td>\n      <td>943.0</td>\n    </tr>\n    <tr>\n      <th>OAK</th>\n      <td>5.0</td>\n      <td>664.8</td>\n      <td>230.653853</td>\n      <td>274.0</td>\n      <td>653.0</td>\n      <td>739.0</td>\n      <td>813.0</td>\n      <td>845.0</td>\n    </tr>\n    <tr>\n      <th>PHI</th>\n      <td>5.0</td>\n      <td>611.4</td>\n      <td>180.410088</td>\n      <td>306.0</td>\n      <td>610.0</td>\n      <td>677.0</td>\n      <td>690.0</td>\n      <td>774.0</td>\n    </tr>\n    <tr>\n      <th>PIT</th>\n      <td>5.0</td>\n      <td>613.2</td>\n      <td>223.037441</td>\n      <td>219.0</td>\n      <td>668.0</td>\n      <td>692.0</td>\n      <td>729.0</td>\n      <td>758.0</td>\n    </tr>\n    <tr>\n      <th>SDP</th>\n      <td>5.0</td>\n      <td>582.8</td>\n      <td>148.804234</td>\n      <td>325.0</td>\n      <td>604.0</td>\n      <td>617.0</td>\n      <td>682.0</td>\n      <td>686.0</td>\n    </tr>\n    <tr>\n      <th>SEA</th>\n      <td>5.0</td>\n      <td>641.4</td>\n      <td>219.524031</td>\n      <td>254.0</td>\n      <td>677.0</td>\n      <td>750.0</td>\n      <td>758.0</td>\n      <td>768.0</td>\n    </tr>\n    <tr>\n      <th>SFG</th>\n      <td>5.0</td>\n      <td>586.8</td>\n      <td>166.259436</td>\n      <td>299.0</td>\n      <td>603.0</td>\n      <td>639.0</td>\n      <td>678.0</td>\n      <td>715.0</td>\n    </tr>\n    <tr>\n      <th>STL</th>\n      <td>5.0</td>\n      <td>660.6</td>\n      <td>235.253693</td>\n      <td>240.0</td>\n      <td>759.0</td>\n      <td>761.0</td>\n      <td>764.0</td>\n      <td>779.0</td>\n    </tr>\n    <tr>\n      <th>TBR</th>\n      <td>5.0</td>\n      <td>628.0</td>\n      <td>192.897641</td>\n      <td>289.0</td>\n      <td>672.0</td>\n      <td>694.0</td>\n      <td>716.0</td>\n      <td>769.0</td>\n    </tr>\n    <tr>\n      <th>TEX</th>\n      <td>5.0</td>\n      <td>667.0</td>\n      <td>249.312053</td>\n      <td>224.0</td>\n      <td>737.0</td>\n      <td>765.0</td>\n      <td>799.0</td>\n      <td>810.0</td>\n    </tr>\n    <tr>\n      <th>TOR</th>\n      <td>5.0</td>\n      <td>637.8</td>\n      <td>189.305837</td>\n      <td>302.0</td>\n      <td>693.0</td>\n      <td>709.0</td>\n      <td>726.0</td>\n      <td>759.0</td>\n    </tr>\n    <tr>\n      <th>WSN</th>\n      <td>5.0</td>\n      <td>703.8</td>\n      <td>233.814456</td>\n      <td>293.0</td>\n      <td>763.0</td>\n      <td>771.0</td>\n      <td>819.0</td>\n      <td>873.0</td>\n    </tr>\n  </tbody>\n</table>\n</div>"
     },
     "metadata": {},
     "execution_count": 18
    }
   ],
   "source": [
    "raw_data.groupby('Tm').apply(lambda team: team.R.describe())"
   ]
  },
  {
   "cell_type": "code",
   "execution_count": 20,
   "metadata": {},
   "outputs": [
    {
     "output_type": "error",
     "ename": "ConversionError",
     "evalue": "Failed to convert value(s) to axis units: 0     2018\n1     2018\n2     2018\n3     2018\n4     2018\n      ... \n25    2020\n26    2020\n27    2020\n28    2020\n29    2020\nName: year, Length: 150, dtype: object",
     "traceback": [
      "\u001b[1;31m---------------------------------------------------------------------------\u001b[0m",
      "\u001b[1;31mValueError\u001b[0m                                Traceback (most recent call last)",
      "\u001b[1;32m~/projects/mlb-win-totals/.venv/lib/python3.8/site-packages/matplotlib/axis.py\u001b[0m in \u001b[0;36mconvert_units\u001b[1;34m(self, x)\u001b[0m\n\u001b[0;32m   1488\u001b[0m         \u001b[1;32mtry\u001b[0m\u001b[1;33m:\u001b[0m\u001b[1;33m\u001b[0m\u001b[1;33m\u001b[0m\u001b[0m\n\u001b[1;32m-> 1489\u001b[1;33m             \u001b[0mret\u001b[0m \u001b[1;33m=\u001b[0m \u001b[0mself\u001b[0m\u001b[1;33m.\u001b[0m\u001b[0mconverter\u001b[0m\u001b[1;33m.\u001b[0m\u001b[0mconvert\u001b[0m\u001b[1;33m(\u001b[0m\u001b[0mx\u001b[0m\u001b[1;33m,\u001b[0m \u001b[0mself\u001b[0m\u001b[1;33m.\u001b[0m\u001b[0munits\u001b[0m\u001b[1;33m,\u001b[0m \u001b[0mself\u001b[0m\u001b[1;33m)\u001b[0m\u001b[1;33m\u001b[0m\u001b[1;33m\u001b[0m\u001b[0m\n\u001b[0m\u001b[0;32m   1490\u001b[0m         \u001b[1;32mexcept\u001b[0m \u001b[0mException\u001b[0m \u001b[1;32mas\u001b[0m \u001b[0me\u001b[0m\u001b[1;33m:\u001b[0m\u001b[1;33m\u001b[0m\u001b[1;33m\u001b[0m\u001b[0m\n",
      "\u001b[1;32m~/projects/mlb-win-totals/.venv/lib/python3.8/site-packages/matplotlib/category.py\u001b[0m in \u001b[0;36mconvert\u001b[1;34m(value, unit, axis)\u001b[0m\n\u001b[0;32m     48\u001b[0m         \u001b[1;32mif\u001b[0m \u001b[0munit\u001b[0m \u001b[1;32mis\u001b[0m \u001b[1;32mNone\u001b[0m\u001b[1;33m:\u001b[0m\u001b[1;33m\u001b[0m\u001b[1;33m\u001b[0m\u001b[0m\n\u001b[1;32m---> 49\u001b[1;33m             raise ValueError(\n\u001b[0m\u001b[0;32m     50\u001b[0m                 \u001b[1;34m'Missing category information for StrCategoryConverter; '\u001b[0m\u001b[1;33m\u001b[0m\u001b[1;33m\u001b[0m\u001b[0m\n",
      "\u001b[1;31mValueError\u001b[0m: Missing category information for StrCategoryConverter; this might be caused by unintendedly mixing categorical and numeric data",
      "\nThe above exception was the direct cause of the following exception:\n",
      "\u001b[1;31mConversionError\u001b[0m                           Traceback (most recent call last)",
      "\u001b[1;32m<ipython-input-20-1a15af7b04f6>\u001b[0m in \u001b[0;36m<module>\u001b[1;34m\u001b[0m\n\u001b[0;32m      1\u001b[0m \u001b[0mfig\u001b[0m\u001b[1;33m,\u001b[0m \u001b[0max\u001b[0m \u001b[1;33m=\u001b[0m \u001b[0mplt\u001b[0m\u001b[1;33m.\u001b[0m\u001b[0msubplots\u001b[0m\u001b[1;33m(\u001b[0m\u001b[1;33m)\u001b[0m\u001b[1;33m\u001b[0m\u001b[1;33m\u001b[0m\u001b[0m\n\u001b[1;32m----> 2\u001b[1;33m \u001b[0max\u001b[0m\u001b[1;33m.\u001b[0m\u001b[0mhist\u001b[0m\u001b[1;33m(\u001b[0m\u001b[0mraw_data\u001b[0m\u001b[1;33m.\u001b[0m\u001b[0mR\u001b[0m\u001b[1;33m,\u001b[0m \u001b[0mraw_data\u001b[0m\u001b[1;33m.\u001b[0m\u001b[0myear\u001b[0m\u001b[1;33m)\u001b[0m\u001b[1;33m\u001b[0m\u001b[1;33m\u001b[0m\u001b[0m\n\u001b[0m\u001b[0;32m      3\u001b[0m \u001b[0mplt\u001b[0m\u001b[1;33m.\u001b[0m\u001b[0mshow\u001b[0m\u001b[1;33m(\u001b[0m\u001b[1;33m)\u001b[0m\u001b[1;33m;\u001b[0m\u001b[1;33m\u001b[0m\u001b[1;33m\u001b[0m\u001b[0m\n",
      "\u001b[1;32m~/projects/mlb-win-totals/.venv/lib/python3.8/site-packages/matplotlib/__init__.py\u001b[0m in \u001b[0;36minner\u001b[1;34m(ax, data, *args, **kwargs)\u001b[0m\n\u001b[0;32m   1350\u001b[0m     \u001b[1;32mdef\u001b[0m \u001b[0minner\u001b[0m\u001b[1;33m(\u001b[0m\u001b[0max\u001b[0m\u001b[1;33m,\u001b[0m \u001b[1;33m*\u001b[0m\u001b[0margs\u001b[0m\u001b[1;33m,\u001b[0m \u001b[0mdata\u001b[0m\u001b[1;33m=\u001b[0m\u001b[1;32mNone\u001b[0m\u001b[1;33m,\u001b[0m \u001b[1;33m**\u001b[0m\u001b[0mkwargs\u001b[0m\u001b[1;33m)\u001b[0m\u001b[1;33m:\u001b[0m\u001b[1;33m\u001b[0m\u001b[1;33m\u001b[0m\u001b[0m\n\u001b[0;32m   1351\u001b[0m         \u001b[1;32mif\u001b[0m \u001b[0mdata\u001b[0m \u001b[1;32mis\u001b[0m \u001b[1;32mNone\u001b[0m\u001b[1;33m:\u001b[0m\u001b[1;33m\u001b[0m\u001b[1;33m\u001b[0m\u001b[0m\n\u001b[1;32m-> 1352\u001b[1;33m             \u001b[1;32mreturn\u001b[0m \u001b[0mfunc\u001b[0m\u001b[1;33m(\u001b[0m\u001b[0max\u001b[0m\u001b[1;33m,\u001b[0m \u001b[1;33m*\u001b[0m\u001b[0mmap\u001b[0m\u001b[1;33m(\u001b[0m\u001b[0msanitize_sequence\u001b[0m\u001b[1;33m,\u001b[0m \u001b[0margs\u001b[0m\u001b[1;33m)\u001b[0m\u001b[1;33m,\u001b[0m \u001b[1;33m**\u001b[0m\u001b[0mkwargs\u001b[0m\u001b[1;33m)\u001b[0m\u001b[1;33m\u001b[0m\u001b[1;33m\u001b[0m\u001b[0m\n\u001b[0m\u001b[0;32m   1353\u001b[0m \u001b[1;33m\u001b[0m\u001b[0m\n\u001b[0;32m   1354\u001b[0m         \u001b[0mbound\u001b[0m \u001b[1;33m=\u001b[0m \u001b[0mnew_sig\u001b[0m\u001b[1;33m.\u001b[0m\u001b[0mbind\u001b[0m\u001b[1;33m(\u001b[0m\u001b[0max\u001b[0m\u001b[1;33m,\u001b[0m \u001b[1;33m*\u001b[0m\u001b[0margs\u001b[0m\u001b[1;33m,\u001b[0m \u001b[1;33m**\u001b[0m\u001b[0mkwargs\u001b[0m\u001b[1;33m)\u001b[0m\u001b[1;33m\u001b[0m\u001b[1;33m\u001b[0m\u001b[0m\n",
      "\u001b[1;32m~/projects/mlb-win-totals/.venv/lib/python3.8/site-packages/matplotlib/axes/_axes.py\u001b[0m in \u001b[0;36mhist\u001b[1;34m(self, x, bins, range, density, weights, cumulative, bottom, histtype, align, orientation, rwidth, log, color, label, stacked, **kwargs)\u001b[0m\n\u001b[0;32m   6668\u001b[0m \u001b[1;33m\u001b[0m\u001b[0m\n\u001b[0;32m   6669\u001b[0m         \u001b[1;32mif\u001b[0m \u001b[1;32mnot\u001b[0m \u001b[0mcbook\u001b[0m\u001b[1;33m.\u001b[0m\u001b[0mis_scalar_or_string\u001b[0m\u001b[1;33m(\u001b[0m\u001b[0mbins\u001b[0m\u001b[1;33m)\u001b[0m\u001b[1;33m:\u001b[0m\u001b[1;33m\u001b[0m\u001b[1;33m\u001b[0m\u001b[0m\n\u001b[1;32m-> 6670\u001b[1;33m             \u001b[0mbins\u001b[0m \u001b[1;33m=\u001b[0m \u001b[0mconvert_units\u001b[0m\u001b[1;33m(\u001b[0m\u001b[0mbins\u001b[0m\u001b[1;33m)\u001b[0m\u001b[1;33m\u001b[0m\u001b[1;33m\u001b[0m\u001b[0m\n\u001b[0m\u001b[0;32m   6671\u001b[0m \u001b[1;33m\u001b[0m\u001b[0m\n\u001b[0;32m   6672\u001b[0m         \u001b[1;31m# We need to do to 'weights' what was done to 'x'\u001b[0m\u001b[1;33m\u001b[0m\u001b[1;33m\u001b[0m\u001b[1;33m\u001b[0m\u001b[0m\n",
      "\u001b[1;32m~/projects/mlb-win-totals/.venv/lib/python3.8/site-packages/matplotlib/artist.py\u001b[0m in \u001b[0;36mconvert_xunits\u001b[1;34m(self, x)\u001b[0m\n\u001b[0;32m    201\u001b[0m         \u001b[1;32mif\u001b[0m \u001b[0max\u001b[0m \u001b[1;32mis\u001b[0m \u001b[1;32mNone\u001b[0m \u001b[1;32mor\u001b[0m \u001b[0max\u001b[0m\u001b[1;33m.\u001b[0m\u001b[0mxaxis\u001b[0m \u001b[1;32mis\u001b[0m \u001b[1;32mNone\u001b[0m\u001b[1;33m:\u001b[0m\u001b[1;33m\u001b[0m\u001b[1;33m\u001b[0m\u001b[0m\n\u001b[0;32m    202\u001b[0m             \u001b[1;32mreturn\u001b[0m \u001b[0mx\u001b[0m\u001b[1;33m\u001b[0m\u001b[1;33m\u001b[0m\u001b[0m\n\u001b[1;32m--> 203\u001b[1;33m         \u001b[1;32mreturn\u001b[0m \u001b[0max\u001b[0m\u001b[1;33m.\u001b[0m\u001b[0mxaxis\u001b[0m\u001b[1;33m.\u001b[0m\u001b[0mconvert_units\u001b[0m\u001b[1;33m(\u001b[0m\u001b[0mx\u001b[0m\u001b[1;33m)\u001b[0m\u001b[1;33m\u001b[0m\u001b[1;33m\u001b[0m\u001b[0m\n\u001b[0m\u001b[0;32m    204\u001b[0m \u001b[1;33m\u001b[0m\u001b[0m\n\u001b[0;32m    205\u001b[0m     \u001b[1;32mdef\u001b[0m \u001b[0mconvert_yunits\u001b[0m\u001b[1;33m(\u001b[0m\u001b[0mself\u001b[0m\u001b[1;33m,\u001b[0m \u001b[0my\u001b[0m\u001b[1;33m)\u001b[0m\u001b[1;33m:\u001b[0m\u001b[1;33m\u001b[0m\u001b[1;33m\u001b[0m\u001b[0m\n",
      "\u001b[1;32m~/projects/mlb-win-totals/.venv/lib/python3.8/site-packages/matplotlib/axis.py\u001b[0m in \u001b[0;36mconvert_units\u001b[1;34m(self, x)\u001b[0m\n\u001b[0;32m   1489\u001b[0m             \u001b[0mret\u001b[0m \u001b[1;33m=\u001b[0m \u001b[0mself\u001b[0m\u001b[1;33m.\u001b[0m\u001b[0mconverter\u001b[0m\u001b[1;33m.\u001b[0m\u001b[0mconvert\u001b[0m\u001b[1;33m(\u001b[0m\u001b[0mx\u001b[0m\u001b[1;33m,\u001b[0m \u001b[0mself\u001b[0m\u001b[1;33m.\u001b[0m\u001b[0munits\u001b[0m\u001b[1;33m,\u001b[0m \u001b[0mself\u001b[0m\u001b[1;33m)\u001b[0m\u001b[1;33m\u001b[0m\u001b[1;33m\u001b[0m\u001b[0m\n\u001b[0;32m   1490\u001b[0m         \u001b[1;32mexcept\u001b[0m \u001b[0mException\u001b[0m \u001b[1;32mas\u001b[0m \u001b[0me\u001b[0m\u001b[1;33m:\u001b[0m\u001b[1;33m\u001b[0m\u001b[1;33m\u001b[0m\u001b[0m\n\u001b[1;32m-> 1491\u001b[1;33m             raise munits.ConversionError('Failed to convert value(s) to axis '\n\u001b[0m\u001b[0;32m   1492\u001b[0m                                          f'units: {x!r}') from e\n\u001b[0;32m   1493\u001b[0m         \u001b[1;32mreturn\u001b[0m \u001b[0mret\u001b[0m\u001b[1;33m\u001b[0m\u001b[1;33m\u001b[0m\u001b[0m\n",
      "\u001b[1;31mConversionError\u001b[0m: Failed to convert value(s) to axis units: 0     2018\n1     2018\n2     2018\n3     2018\n4     2018\n      ... \n25    2020\n26    2020\n27    2020\n28    2020\n29    2020\nName: year, Length: 150, dtype: object"
     ]
    }
   ],
   "source": [
    "fig, ax = plt.subplots()\n",
    "ax.hist(raw_data.R, raw_data.year)\n",
    "plt.show();"
   ]
  },
  {
   "cell_type": "code",
   "execution_count": 97,
   "metadata": {},
   "outputs": [
    {
     "data": {
      "text/html": [
       "<div>\n",
       "<style scoped>\n",
       "    .dataframe tbody tr th:only-of-type {\n",
       "        vertical-align: middle;\n",
       "    }\n",
       "\n",
       "    .dataframe tbody tr th {\n",
       "        vertical-align: top;\n",
       "    }\n",
       "\n",
       "    .dataframe thead th {\n",
       "        text-align: right;\n",
       "    }\n",
       "</style>\n",
       "<table border=\"1\" class=\"dataframe\">\n",
       "  <thead>\n",
       "    <tr style=\"text-align: right;\">\n",
       "      <th></th>\n",
       "      <th>Tm</th>\n",
       "      <th>RS 2016</th>\n",
       "      <th>RA 2016</th>\n",
       "      <th>RS 2017</th>\n",
       "      <th>RA 2017</th>\n",
       "      <th>RS 2018</th>\n",
       "      <th>RA 2018</th>\n",
       "      <th>RS 2019</th>\n",
       "      <th>RA 2019</th>\n",
       "      <th>RS 2020</th>\n",
       "      <th>RA 2020</th>\n",
       "    </tr>\n",
       "  </thead>\n",
       "  <tbody>\n",
       "    <tr>\n",
       "      <th>0</th>\n",
       "      <td>ARI</td>\n",
       "      <td>752.0</td>\n",
       "      <td>890.0</td>\n",
       "      <td>812.0</td>\n",
       "      <td>659.0</td>\n",
       "      <td>693.0</td>\n",
       "      <td>644.0</td>\n",
       "      <td>813</td>\n",
       "      <td>743</td>\n",
       "      <td>725.76</td>\n",
       "      <td>797.04</td>\n",
       "    </tr>\n",
       "    <tr>\n",
       "      <th>1</th>\n",
       "      <td>ATL</td>\n",
       "      <td>649.0</td>\n",
       "      <td>779.0</td>\n",
       "      <td>732.0</td>\n",
       "      <td>821.0</td>\n",
       "      <td>759.0</td>\n",
       "      <td>657.0</td>\n",
       "      <td>855</td>\n",
       "      <td>743</td>\n",
       "      <td>939.60</td>\n",
       "      <td>777.60</td>\n",
       "    </tr>\n",
       "    <tr>\n",
       "      <th>2</th>\n",
       "      <td>BAL</td>\n",
       "      <td>744.0</td>\n",
       "      <td>715.0</td>\n",
       "      <td>743.0</td>\n",
       "      <td>841.0</td>\n",
       "      <td>622.0</td>\n",
       "      <td>892.0</td>\n",
       "      <td>729</td>\n",
       "      <td>981</td>\n",
       "      <td>740.34</td>\n",
       "      <td>793.80</td>\n",
       "    </tr>\n",
       "    <tr>\n",
       "      <th>3</th>\n",
       "      <td>BOS</td>\n",
       "      <td>878.0</td>\n",
       "      <td>694.0</td>\n",
       "      <td>785.0</td>\n",
       "      <td>668.0</td>\n",
       "      <td>876.0</td>\n",
       "      <td>647.0</td>\n",
       "      <td>901</td>\n",
       "      <td>828</td>\n",
       "      <td>788.94</td>\n",
       "      <td>947.70</td>\n",
       "    </tr>\n",
       "    <tr>\n",
       "      <th>4</th>\n",
       "      <td>CHC</td>\n",
       "      <td>808.0</td>\n",
       "      <td>556.0</td>\n",
       "      <td>822.0</td>\n",
       "      <td>695.0</td>\n",
       "      <td>761.0</td>\n",
       "      <td>645.0</td>\n",
       "      <td>814</td>\n",
       "      <td>717</td>\n",
       "      <td>716.04</td>\n",
       "      <td>648.00</td>\n",
       "    </tr>\n",
       "  </tbody>\n",
       "</table>\n",
       "</div>"
      ],
      "text/plain": [
       "    Tm  RS 2016  RA 2016  RS 2017  RA 2017  RS 2018  RA 2018  RS 2019  \\\n",
       "0  ARI    752.0    890.0    812.0    659.0    693.0    644.0      813   \n",
       "1  ATL    649.0    779.0    732.0    821.0    759.0    657.0      855   \n",
       "2  BAL    744.0    715.0    743.0    841.0    622.0    892.0      729   \n",
       "3  BOS    878.0    694.0    785.0    668.0    876.0    647.0      901   \n",
       "4  CHC    808.0    556.0    822.0    695.0    761.0    645.0      814   \n",
       "\n",
       "   RA 2019  RS 2020  RA 2020  \n",
       "0      743   725.76   797.04  \n",
       "1      743   939.60   777.60  \n",
       "2      981   740.34   793.80  \n",
       "3      828   788.94   947.70  \n",
       "4      717   716.04   648.00  "
      ]
     },
     "execution_count": 97,
     "metadata": {},
     "output_type": "execute_result"
    }
   ],
   "source": [
    "# Connect Each CSV to its Own DF\n",
    "# The Broom function above only includes data from 2018. I'm going to try a pandas merge below.\n",
    "# Ultimately, we only need Runs Scored and Runs allowed. \n",
    "\n",
    "a_16 = os.path.join(\"Resources\", \"2016_team_data.csv\")\n",
    "a_17 = os.path.join(\"Resources\", \"2017_team_data.csv\")\n",
    "a_18 = os.path.join(\"Resources\", \"2018_team_data.csv\")\n",
    "a_19 = os.path.join(\"Resources\", \"2019_team_data.csv\")\n",
    "a_20 = os.path.join(\"Resources\", \"2020_team_data.csv\")\n",
    "\n",
    "# Convert CSVs into DFs\n",
    "\n",
    "df_16 = pd.read_csv(a_16)\n",
    "df_17 = pd.read_csv(a_17)\n",
    "df_18 = pd.read_csv(a_18)\n",
    "df_19 = pd.read_csv(a_19)\n",
    "df_20 = pd.read_csv(a_20)\n",
    "\n",
    "# Pull Necessary Datapoints\n",
    "# Note that Runs Scored, = \"R\" Runs Allowed = \"R.1\"\n",
    "# Also note that we had to create an adjusted number for 2020 based upon the shortened season\n",
    "\n",
    "runs_16 = df_16[['Tm','R','R.1']].dropna()\n",
    "runs_17 = df_17[['Tm','R','R.1']].dropna()\n",
    "runs_18 = df_18[['Tm','R','R.1']].dropna()\n",
    "runs_19 = df_19[['Tm','R','R.1']].dropna()\n",
    "runs_20 = df_20[['Tm','Adj. Runs','Adj. Runs.1']].dropna()\n",
    "\n",
    "# Now We Can Merge This into one big Dataframe\n",
    "# The names of the new columns will be a mess, so we will have to fix this.\n",
    "\n",
    "first_merge = pd.merge(runs_16, runs_17, how='left', on=['Tm'])\n",
    "\n",
    "second_merge = pd.merge(first_merge, runs_18, how='left', on = ['Tm'])\n",
    "\n",
    "third_merge = pd.merge(second_merge, runs_19, how='left', on = ['Tm'])\n",
    "\n",
    "df = pd.merge(third_merge, runs_20, how='left', on = ['Tm'])\n",
    "\n",
    "# Change the names of the Columns\n",
    "\n",
    "df.columns= ['Tm','RS 2016', 'RA 2016','RS 2017', 'RA 2017','RS 2018', 'RA 2018','RS 2019', 'RA 2019','RS 2020', 'RA 2020']\n",
    "\n",
    "# Export into New CSV\n",
    "\n",
    "# We don't need to run the function below again (df.to_csv), as the CSV is already in the resources folder.\n",
    "# We will keep it here for the sake of understanding the project\n",
    "#df.to_csv(\"run_data\")\n",
    "\n",
    "df.head()"
   ]
  },
  {
   "source": [
    "# why don't we make a function for pythagorean win % ? seems like it's worth it "
   ],
   "cell_type": "markdown",
   "metadata": {}
  },
  {
   "cell_type": "code",
   "execution_count": 116,
   "metadata": {},
   "outputs": [
    {
     "data": {
      "text/html": [
       "<div>\n",
       "<style scoped>\n",
       "    .dataframe tbody tr th:only-of-type {\n",
       "        vertical-align: middle;\n",
       "    }\n",
       "\n",
       "    .dataframe tbody tr th {\n",
       "        vertical-align: top;\n",
       "    }\n",
       "\n",
       "    .dataframe thead th {\n",
       "        text-align: right;\n",
       "    }\n",
       "</style>\n",
       "<table border=\"1\" class=\"dataframe\">\n",
       "  <thead>\n",
       "    <tr style=\"text-align: right;\">\n",
       "      <th></th>\n",
       "      <th>Implied Win % (2016)</th>\n",
       "      <th>Implied Win % (2017)</th>\n",
       "      <th>Implied Win % (2018)</th>\n",
       "      <th>Implied Win % (2019)</th>\n",
       "      <th>Implied Win % (2020)</th>\n",
       "    </tr>\n",
       "    <tr>\n",
       "      <th>Teams</th>\n",
       "      <th></th>\n",
       "      <th></th>\n",
       "      <th></th>\n",
       "      <th></th>\n",
       "      <th></th>\n",
       "    </tr>\n",
       "  </thead>\n",
       "  <tbody>\n",
       "    <tr>\n",
       "      <th>ARI</th>\n",
       "      <td>0.423523</td>\n",
       "      <td>0.594370</td>\n",
       "      <td>0.533499</td>\n",
       "      <td>0.541098</td>\n",
       "      <td>0.457244</td>\n",
       "    </tr>\n",
       "    <tr>\n",
       "      <th>ATL</th>\n",
       "      <td>0.417239</td>\n",
       "      <td>0.447697</td>\n",
       "      <td>0.565644</td>\n",
       "      <td>0.563884</td>\n",
       "      <td>0.585723</td>\n",
       "    </tr>\n",
       "    <tr>\n",
       "      <th>BAL</th>\n",
       "      <td>0.518181</td>\n",
       "      <td>0.443559</td>\n",
       "      <td>0.340793</td>\n",
       "      <td>0.367415</td>\n",
       "      <td>0.468145</td>\n",
       "    </tr>\n",
       "    <tr>\n",
       "      <th>BOS</th>\n",
       "      <td>0.605962</td>\n",
       "      <td>0.573306</td>\n",
       "      <td>0.635185</td>\n",
       "      <td>0.538578</td>\n",
       "      <td>0.416897</td>\n",
       "    </tr>\n",
       "    <tr>\n",
       "      <th>CHC</th>\n",
       "      <td>0.664640</td>\n",
       "      <td>0.576184</td>\n",
       "      <td>0.575090</td>\n",
       "      <td>0.557790</td>\n",
       "      <td>0.545553</td>\n",
       "    </tr>\n",
       "  </tbody>\n",
       "</table>\n",
       "</div>"
      ],
      "text/plain": [
       "       Implied Win % (2016)  Implied Win % (2017)  Implied Win % (2018)  \\\n",
       "Teams                                                                     \n",
       "ARI                0.423523              0.594370              0.533499   \n",
       "ATL                0.417239              0.447697              0.565644   \n",
       "BAL                0.518181              0.443559              0.340793   \n",
       "BOS                0.605962              0.573306              0.635185   \n",
       "CHC                0.664640              0.576184              0.575090   \n",
       "\n",
       "       Implied Win % (2019)  Implied Win % (2020)  \n",
       "Teams                                              \n",
       "ARI                0.541098              0.457244  \n",
       "ATL                0.563884              0.585723  \n",
       "BAL                0.367415              0.468145  \n",
       "BOS                0.538578              0.416897  \n",
       "CHC                0.557790              0.545553  "
      ]
     },
     "execution_count": 116,
     "metadata": {},
     "output_type": "execute_result"
    }
   ],
   "source": [
    "# Create New Table with Annual Pythagorean Win %\n",
    "# Recall that this function is equal to:\n",
    "# (Runs Scored ^ 1.83) / ((Runs Score ^ 1.83) + (Runs Allowed ^ 1.83))\n",
    "\n",
    "pyth_16 = (df['RS 2016']**1.83) / ((df['RS 2016']**1.83)+(df['RA 2016']**1.83))\n",
    "\n",
    "pyth_17 = (df['RS 2017']**1.83) / ((df['RS 2017']**1.83)+(df['RA 2017']**1.83))\n",
    "\n",
    "pyth_18 = (df['RS 2018']**1.83) / ((df['RS 2018']**1.83)+(df['RA 2018']**1.83))\n",
    "\n",
    "pyth_19 = (df['RS 2019']**1.83) / ((df['RS 2019']**1.83)+(df['RA 2019']**1.83))\n",
    "\n",
    "pyth_20 = (df['RS 2020']**1.83) / ((df['RS 2020']**1.83)+(df['RA 2020']**1.83))\n",
    "\n",
    "pyth_df = pd.DataFrame({\n",
    "    \n",
    "        \"Teams\": df['Tm'],\n",
    "        \"Implied Win % (2016)\": pyth_16,\n",
    "        \"Implied Win % (2017)\": pyth_17,\n",
    "        \"Implied Win % (2018)\": pyth_18,\n",
    "        \"Implied Win % (2019)\": pyth_19,\n",
    "        \"Implied Win % (2020)\": pyth_20})\n",
    "\n",
    "pyth_df.set_index(\"Teams\", inplace = True)\n",
    "pyth_df.head()\n",
    "\n",
    "\n",
    "#pyth_df.to_csv(\"pythag_win_percentage\") --> Read Above on why this is commented out! \n",
    "#                                             CC: Export into new CSV"
   ]
  },
  {
   "cell_type": "code",
   "execution_count": 13,
   "metadata": {},
   "outputs": [],
   "source": [
    "# Import Requests for API Call\n",
    "import requests\n",
    "import json"
   ]
  },
  {
   "source": [
    "# thoughts on these? \n",
    "* https://github.com/roclark/sportsipy\n",
    "* https://pypi.org/project/sportsreference/ "
   ],
   "cell_type": "markdown",
   "metadata": {}
  },
  {
   "cell_type": "code",
   "execution_count": 14,
   "metadata": {},
   "outputs": [
    {
     "ename": "JSONDecodeError",
     "evalue": "Expecting value: line 1 column 1 (char 0)",
     "output_type": "error",
     "traceback": [
      "\u001b[0;31m---------------------------------------------------------------------------\u001b[0m",
      "\u001b[0;31mJSONDecodeError\u001b[0m                           Traceback (most recent call last)",
      "\u001b[0;32m<ipython-input-14-244ed0fd8da9>\u001b[0m in \u001b[0;36m<module>\u001b[0;34m\u001b[0m\n\u001b[1;32m      2\u001b[0m \u001b[0;34m\u001b[0m\u001b[0m\n\u001b[1;32m      3\u001b[0m \u001b[0mresponse\u001b[0m \u001b[0;34m=\u001b[0m \u001b[0mrequests\u001b[0m\u001b[0;34m.\u001b[0m\u001b[0mget\u001b[0m\u001b[0;34m(\u001b[0m\u001b[0murl\u001b[0m\u001b[0;34m)\u001b[0m\u001b[0;34m\u001b[0m\u001b[0;34m\u001b[0m\u001b[0m\n\u001b[0;32m----> 4\u001b[0;31m \u001b[0mresponse_json\u001b[0m \u001b[0;34m=\u001b[0m \u001b[0mresponse\u001b[0m\u001b[0;34m.\u001b[0m\u001b[0mjson\u001b[0m\u001b[0;34m(\u001b[0m\u001b[0;34m)\u001b[0m\u001b[0;34m\u001b[0m\u001b[0;34m\u001b[0m\u001b[0m\n\u001b[0m",
      "\u001b[0;32m~/opt/anaconda3/lib/python3.8/site-packages/requests/models.py\u001b[0m in \u001b[0;36mjson\u001b[0;34m(self, **kwargs)\u001b[0m\n\u001b[1;32m    896\u001b[0m                     \u001b[0;31m# used.\u001b[0m\u001b[0;34m\u001b[0m\u001b[0;34m\u001b[0m\u001b[0;34m\u001b[0m\u001b[0m\n\u001b[1;32m    897\u001b[0m                     \u001b[0;32mpass\u001b[0m\u001b[0;34m\u001b[0m\u001b[0;34m\u001b[0m\u001b[0m\n\u001b[0;32m--> 898\u001b[0;31m         \u001b[0;32mreturn\u001b[0m \u001b[0mcomplexjson\u001b[0m\u001b[0;34m.\u001b[0m\u001b[0mloads\u001b[0m\u001b[0;34m(\u001b[0m\u001b[0mself\u001b[0m\u001b[0;34m.\u001b[0m\u001b[0mtext\u001b[0m\u001b[0;34m,\u001b[0m \u001b[0;34m**\u001b[0m\u001b[0mkwargs\u001b[0m\u001b[0;34m)\u001b[0m\u001b[0;34m\u001b[0m\u001b[0;34m\u001b[0m\u001b[0m\n\u001b[0m\u001b[1;32m    899\u001b[0m \u001b[0;34m\u001b[0m\u001b[0m\n\u001b[1;32m    900\u001b[0m     \u001b[0;34m@\u001b[0m\u001b[0mproperty\u001b[0m\u001b[0;34m\u001b[0m\u001b[0;34m\u001b[0m\u001b[0m\n",
      "\u001b[0;32m~/opt/anaconda3/lib/python3.8/json/__init__.py\u001b[0m in \u001b[0;36mloads\u001b[0;34m(s, cls, object_hook, parse_float, parse_int, parse_constant, object_pairs_hook, **kw)\u001b[0m\n\u001b[1;32m    355\u001b[0m             \u001b[0mparse_int\u001b[0m \u001b[0;32mis\u001b[0m \u001b[0;32mNone\u001b[0m \u001b[0;32mand\u001b[0m \u001b[0mparse_float\u001b[0m \u001b[0;32mis\u001b[0m \u001b[0;32mNone\u001b[0m \u001b[0;32mand\u001b[0m\u001b[0;34m\u001b[0m\u001b[0;34m\u001b[0m\u001b[0m\n\u001b[1;32m    356\u001b[0m             parse_constant is None and object_pairs_hook is None and not kw):\n\u001b[0;32m--> 357\u001b[0;31m         \u001b[0;32mreturn\u001b[0m \u001b[0m_default_decoder\u001b[0m\u001b[0;34m.\u001b[0m\u001b[0mdecode\u001b[0m\u001b[0;34m(\u001b[0m\u001b[0ms\u001b[0m\u001b[0;34m)\u001b[0m\u001b[0;34m\u001b[0m\u001b[0;34m\u001b[0m\u001b[0m\n\u001b[0m\u001b[1;32m    358\u001b[0m     \u001b[0;32mif\u001b[0m \u001b[0mcls\u001b[0m \u001b[0;32mis\u001b[0m \u001b[0;32mNone\u001b[0m\u001b[0;34m:\u001b[0m\u001b[0;34m\u001b[0m\u001b[0;34m\u001b[0m\u001b[0m\n\u001b[1;32m    359\u001b[0m         \u001b[0mcls\u001b[0m \u001b[0;34m=\u001b[0m \u001b[0mJSONDecoder\u001b[0m\u001b[0;34m\u001b[0m\u001b[0;34m\u001b[0m\u001b[0m\n",
      "\u001b[0;32m~/opt/anaconda3/lib/python3.8/json/decoder.py\u001b[0m in \u001b[0;36mdecode\u001b[0;34m(self, s, _w)\u001b[0m\n\u001b[1;32m    335\u001b[0m \u001b[0;34m\u001b[0m\u001b[0m\n\u001b[1;32m    336\u001b[0m         \"\"\"\n\u001b[0;32m--> 337\u001b[0;31m         \u001b[0mobj\u001b[0m\u001b[0;34m,\u001b[0m \u001b[0mend\u001b[0m \u001b[0;34m=\u001b[0m \u001b[0mself\u001b[0m\u001b[0;34m.\u001b[0m\u001b[0mraw_decode\u001b[0m\u001b[0;34m(\u001b[0m\u001b[0ms\u001b[0m\u001b[0;34m,\u001b[0m \u001b[0midx\u001b[0m\u001b[0;34m=\u001b[0m\u001b[0m_w\u001b[0m\u001b[0;34m(\u001b[0m\u001b[0ms\u001b[0m\u001b[0;34m,\u001b[0m \u001b[0;36m0\u001b[0m\u001b[0;34m)\u001b[0m\u001b[0;34m.\u001b[0m\u001b[0mend\u001b[0m\u001b[0;34m(\u001b[0m\u001b[0;34m)\u001b[0m\u001b[0;34m)\u001b[0m\u001b[0;34m\u001b[0m\u001b[0;34m\u001b[0m\u001b[0m\n\u001b[0m\u001b[1;32m    338\u001b[0m         \u001b[0mend\u001b[0m \u001b[0;34m=\u001b[0m \u001b[0m_w\u001b[0m\u001b[0;34m(\u001b[0m\u001b[0ms\u001b[0m\u001b[0;34m,\u001b[0m \u001b[0mend\u001b[0m\u001b[0;34m)\u001b[0m\u001b[0;34m.\u001b[0m\u001b[0mend\u001b[0m\u001b[0;34m(\u001b[0m\u001b[0;34m)\u001b[0m\u001b[0;34m\u001b[0m\u001b[0;34m\u001b[0m\u001b[0m\n\u001b[1;32m    339\u001b[0m         \u001b[0;32mif\u001b[0m \u001b[0mend\u001b[0m \u001b[0;34m!=\u001b[0m \u001b[0mlen\u001b[0m\u001b[0;34m(\u001b[0m\u001b[0ms\u001b[0m\u001b[0;34m)\u001b[0m\u001b[0;34m:\u001b[0m\u001b[0;34m\u001b[0m\u001b[0;34m\u001b[0m\u001b[0m\n",
      "\u001b[0;32m~/opt/anaconda3/lib/python3.8/json/decoder.py\u001b[0m in \u001b[0;36mraw_decode\u001b[0;34m(self, s, idx)\u001b[0m\n\u001b[1;32m    353\u001b[0m             \u001b[0mobj\u001b[0m\u001b[0;34m,\u001b[0m \u001b[0mend\u001b[0m \u001b[0;34m=\u001b[0m \u001b[0mself\u001b[0m\u001b[0;34m.\u001b[0m\u001b[0mscan_once\u001b[0m\u001b[0;34m(\u001b[0m\u001b[0ms\u001b[0m\u001b[0;34m,\u001b[0m \u001b[0midx\u001b[0m\u001b[0;34m)\u001b[0m\u001b[0;34m\u001b[0m\u001b[0;34m\u001b[0m\u001b[0m\n\u001b[1;32m    354\u001b[0m         \u001b[0;32mexcept\u001b[0m \u001b[0mStopIteration\u001b[0m \u001b[0;32mas\u001b[0m \u001b[0merr\u001b[0m\u001b[0;34m:\u001b[0m\u001b[0;34m\u001b[0m\u001b[0;34m\u001b[0m\u001b[0m\n\u001b[0;32m--> 355\u001b[0;31m             \u001b[0;32mraise\u001b[0m \u001b[0mJSONDecodeError\u001b[0m\u001b[0;34m(\u001b[0m\u001b[0;34m\"Expecting value\"\u001b[0m\u001b[0;34m,\u001b[0m \u001b[0ms\u001b[0m\u001b[0;34m,\u001b[0m \u001b[0merr\u001b[0m\u001b[0;34m.\u001b[0m\u001b[0mvalue\u001b[0m\u001b[0;34m)\u001b[0m \u001b[0;32mfrom\u001b[0m \u001b[0;32mNone\u001b[0m\u001b[0;34m\u001b[0m\u001b[0;34m\u001b[0m\u001b[0m\n\u001b[0m\u001b[1;32m    356\u001b[0m         \u001b[0;32mreturn\u001b[0m \u001b[0mobj\u001b[0m\u001b[0;34m,\u001b[0m \u001b[0mend\u001b[0m\u001b[0;34m\u001b[0m\u001b[0;34m\u001b[0m\u001b[0m\n",
      "\u001b[0;31mJSONDecodeError\u001b[0m: Expecting value: line 1 column 1 (char 0)"
     ]
    }
   ],
   "source": [
    "# In this API Call, we are looking to get a few things, if possible.\n",
    "# First and foremost, we are looking for a real-time number (or as recent as possible)\n",
    "# --- of Runs Scored and Runs Allowed per team. We will use these datapoints to\n",
    "# ------ calculate the current season (2021) projected wins from an implied pythagorean win %\n",
    "# ----------------------------------\n",
    "# Besides that, we should call an API on historical win totals. We should calculate a figure\n",
    "# --- from the implied win % database that outputs an implied win total (Pythag Wins) and\n",
    "# ------ compare it versus the actual number. \n",
    "# ----------------------------------\n",
    "# Finally, we will need to call an API for Historical Vegas win Totals\n",
    "# We will compare all of the above to the vegas win totals.\n",
    "\n",
    "\n",
    "url = \"https://fly.sportsdata.io/v3/mlb/scores/json/TeamGameStatsByDate/2021-APR-19\"\n",
    "\n",
    "response = requests.get(url)\n",
    "response_json = response.json()"
   ]
  },
  {
   "cell_type": "code",
   "execution_count": null,
   "metadata": {},
   "outputs": [],
   "source": []
  }
 ],
 "metadata": {
  "kernelspec": {
   "display_name": "Python 3.8.2 64-bit ('.venv')",
   "language": "python",
   "name": "python38264bitvenv5b2ae14a89c54b2d80b890b97db86a60"
  },
  "language_info": {
   "codemirror_mode": {
    "name": "ipython",
    "version": 3
   },
   "file_extension": ".py",
   "mimetype": "text/x-python",
   "name": "python",
   "nbconvert_exporter": "python",
   "pygments_lexer": "ipython3",
   "version": "3.8.2-final"
  }
 },
 "nbformat": 4,
 "nbformat_minor": 4
}